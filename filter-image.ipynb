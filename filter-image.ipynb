{
 "cells": [
  {
   "cell_type": "code",
   "execution_count": 1,
   "metadata": {},
   "outputs": [
    {
     "name": "stdout",
     "output_type": "stream",
     "text": [
      "Found 1730 images belonging to 2 classes.\n",
      "Found 432 images belonging to 2 classes.\n",
      "Epoch 1/15\n",
      "55/55 [==============================] - 152s 3s/step - loss: 0.2979 - accuracy: 0.8682 - val_loss: 0.1157 - val_accuracy: 0.9653\n",
      "Epoch 2/15\n",
      "55/55 [==============================] - 90s 2s/step - loss: 0.0751 - accuracy: 0.9780 - val_loss: 0.0772 - val_accuracy: 0.9815\n",
      "Epoch 3/15\n",
      "55/55 [==============================] - 107s 2s/step - loss: 0.0468 - accuracy: 0.9844 - val_loss: 0.0608 - val_accuracy: 0.9884\n",
      "Epoch 4/15\n",
      "55/55 [==============================] - 89s 2s/step - loss: 0.0446 - accuracy: 0.9850 - val_loss: 0.0458 - val_accuracy: 0.9884\n",
      "Epoch 5/15\n",
      "55/55 [==============================] - 81s 1s/step - loss: 0.0376 - accuracy: 0.9890 - val_loss: 0.0451 - val_accuracy: 0.9884\n",
      "Epoch 6/15\n",
      "55/55 [==============================] - 84s 2s/step - loss: 0.0213 - accuracy: 0.9954 - val_loss: 0.0419 - val_accuracy: 0.9838\n",
      "Epoch 7/15\n",
      "55/55 [==============================] - 95s 2s/step - loss: 0.0199 - accuracy: 0.9936 - val_loss: 0.0294 - val_accuracy: 0.9931\n",
      "Epoch 8/15\n",
      "55/55 [==============================] - 96s 2s/step - loss: 0.0145 - accuracy: 0.9971 - val_loss: 0.0417 - val_accuracy: 0.9884\n",
      "Epoch 9/15\n",
      "55/55 [==============================] - 86s 2s/step - loss: 0.0154 - accuracy: 0.9960 - val_loss: 0.0328 - val_accuracy: 0.9884\n",
      "Epoch 10/15\n",
      "55/55 [==============================] - 93s 2s/step - loss: 0.0138 - accuracy: 0.9960 - val_loss: 0.0359 - val_accuracy: 0.9907\n",
      "Epoch 11/15\n",
      "55/55 [==============================] - 90s 2s/step - loss: 0.0123 - accuracy: 0.9965 - val_loss: 0.0241 - val_accuracy: 0.9931\n",
      "Epoch 12/15\n",
      "55/55 [==============================] - 99s 2s/step - loss: 0.0086 - accuracy: 0.9983 - val_loss: 0.0349 - val_accuracy: 0.9907\n",
      "Epoch 13/15\n",
      "55/55 [==============================] - 99s 2s/step - loss: 0.0095 - accuracy: 0.9971 - val_loss: 0.0340 - val_accuracy: 0.9931\n",
      "Epoch 14/15\n",
      "55/55 [==============================] - 95s 2s/step - loss: 0.0097 - accuracy: 0.9971 - val_loss: 0.0319 - val_accuracy: 0.9907\n",
      "Epoch 15/15\n",
      "55/55 [==============================] - 93s 2s/step - loss: 0.0085 - accuracy: 0.9977 - val_loss: 0.0242 - val_accuracy: 0.9907\n"
     ]
    },
    {
     "name": "stderr",
     "output_type": "stream",
     "text": [
      "d:\\Latihan Web\\Tebu\\Model Tebu\\.venv\\lib\\site-packages\\keras\\src\\engine\\training.py:3000: UserWarning: You are saving your model as an HDF5 file via `model.save()`. This file format is considered legacy. We recommend using instead the native Keras format, e.g. `model.save('my_model.keras')`.\n",
      "  saving_api.save_model(\n"
     ]
    },
    {
     "name": "stdout",
     "output_type": "stream",
     "text": [
      "✅ Model berhasil disimpan sebagai 'sugarcane_filter.h5'\n"
     ]
    }
   ],
   "source": [
    "from tensorflow.keras.applications import MobileNetV2\n",
    "from tensorflow.keras.models import Sequential\n",
    "from tensorflow.keras.layers import Dense, Flatten, Dropout, GlobalAveragePooling2D\n",
    "from tensorflow.keras.preprocessing.image import ImageDataGenerator\n",
    "from tensorflow.keras.optimizers import Adam\n",
    "from tensorflow.keras.callbacks import EarlyStopping\n",
    "import tensorflow as tf\n",
    "\n",
    "# Data Augmentation dan Normalisasi\n",
    "datagen = ImageDataGenerator(\n",
    "    rescale=1./255,\n",
    "    validation_split=0.2,\n",
    "    rotation_range=15,\n",
    "    width_shift_range=0.1,\n",
    "    height_shift_range=0.1,\n",
    "    shear_range=0.1,\n",
    "    zoom_range=0.1,\n",
    "    horizontal_flip=True,\n",
    ")\n",
    "\n",
    "train_generator = datagen.flow_from_directory(\n",
    "    'dataset_filter',\n",
    "    target_size=(224, 224),\n",
    "    batch_size=32,\n",
    "    class_mode='categorical',\n",
    "    subset='training',\n",
    "    shuffle=True\n",
    ")\n",
    "\n",
    "val_generator = datagen.flow_from_directory(\n",
    "    'dataset_filter',\n",
    "    target_size=(224, 224),\n",
    "    batch_size=32,\n",
    "    class_mode='categorical',\n",
    "    subset='validation',\n",
    "    shuffle=False\n",
    ")\n",
    "\n",
    "# Load pretrained model tanpa FC layer\n",
    "base_model = MobileNetV2(weights='imagenet', include_top=False, input_shape=(224, 224, 3))\n",
    "base_model.trainable = False  # Freeze feature extractor\n",
    "\n",
    "# Bangun model klasifikasi\n",
    "model = Sequential([\n",
    "    base_model,\n",
    "    GlobalAveragePooling2D(),\n",
    "    Dense(128, activation='relu'),\n",
    "    Dropout(0.5),\n",
    "    Dense(2, activation='softmax')  # 2 kelas\n",
    "])\n",
    "\n",
    "# Compile model\n",
    "model.compile(optimizer=Adam(learning_rate=0.0001), loss='categorical_crossentropy', metrics=['accuracy'])\n",
    "\n",
    "# Callback\n",
    "early_stop = EarlyStopping(monitor='val_loss', patience=5, restore_best_weights=True)\n",
    "\n",
    "# Training\n",
    "history = model.fit(\n",
    "    train_generator,\n",
    "    validation_data=val_generator,\n",
    "    epochs=15,\n",
    "    callbacks=[early_stop]\n",
    ")\n",
    "\n",
    "# Simpan model\n",
    "model.save('sugarcane_filterr.h5')\n",
    "print(\"✅ Model berhasil disimpan sebagai 'sugarcane_filter.h5'\")\n"
   ]
  }
 ],
 "metadata": {
  "kernelspec": {
   "display_name": ".venv",
   "language": "python",
   "name": "python3"
  },
  "language_info": {
   "codemirror_mode": {
    "name": "ipython",
    "version": 3
   },
   "file_extension": ".py",
   "mimetype": "text/x-python",
   "name": "python",
   "nbconvert_exporter": "python",
   "pygments_lexer": "ipython3",
   "version": "3.8.2"
  }
 },
 "nbformat": 4,
 "nbformat_minor": 2
}
